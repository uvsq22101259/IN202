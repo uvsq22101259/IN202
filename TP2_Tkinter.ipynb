{
 "cells": [
  {
   "cell_type": "markdown",
   "metadata": {},
   "source": [
    "Commencer par importer 'tkinter' et les librairies nécessaires à l'aide des commandes suivantes :"
   ]
  },
  {
   "cell_type": "code",
   "execution_count": 1,
   "metadata": {},
   "outputs": [],
   "source": [
    "import tkinter as tk\n",
    "import PIL as pil\n",
    "from PIL import Image\n",
    "from PIL import ImageTk \n",
    "from tkinter import filedialog\n",
    "from tkinter import simpledialog"
   ]
  },
  {
   "cell_type": "markdown",
   "metadata": {},
   "source": [
    "Créer une fenêtre tkinter qui a pour titre \"Rappel du premier Semestre\" et qui affiche le texte \"J'adore Python !\" dans la fenêtre"
   ]
  },
  {
   "cell_type": "code",
   "execution_count": 7,
   "metadata": {},
   "outputs": [
    {
     "name": "stdout",
     "output_type": "stream",
     "text": [
      "0\n"
     ]
    }
   ],
   "source": [
    "\"\"\"def compteur(event):\n",
    "    global clic\n",
    "    clic += 1\n",
    "    text.config(text= str(clic))\"\"\"\n",
    "\n",
    "def fermer_fenetre():\n",
    "    racine.destroy\n",
    "\n",
    "def couleur(event):\n",
    "    if event.widget == canvas:\n",
    "        text.config(text=\"rouge\")\n",
    "    else:\n",
    "        text.config(text=\"noir\")\n",
    "\n",
    "\n",
    "\n",
    "    \n",
    "\n",
    "clic = 0\n",
    "racine = tk.Tk()\n",
    "racine.title(\"Rappel du premier Semestre\")\n",
    "text = tk.Label(racine,text= str(clic))\n",
    "text.grid()\n",
    "bouton = tk.Button(racine,text=\"fermer\", command= fermer_fenetre)\n",
    "bouton.grid()\n",
    "canvas = tk.Canvas(racine, width= 300, height= 300, bg = \"red\")\n",
    "canvas.grid(column=1, row= 0 ,)\n",
    "canvas2 = tk.Canvas(racine, width= 300, height= 300, bg = \"black\")\n",
    "canvas2.grid( column=1, row= 1)\n",
    "canvas.bind(\"<Double-1>\", couleur)\n",
    "canvas2.bind(\"<Double-1>\", couleur)\n",
    "racine.mainloop()\n",
    "print(clic)"
   ]
  },
  {
   "cell_type": "markdown",
   "metadata": {},
   "source": [
    "Toujours dans la même fenêtre, ajouter maintenant un bouton permettant de quitter la fenêtre, il faudra pour cela \n",
    "créer une fonction callback `fermer_fenetre` qui appelle la méthode `destroy()`"
   ]
  },
  {
   "cell_type": "code",
   "execution_count": null,
   "metadata": {},
   "outputs": [],
   "source": [
    "\n"
   ]
  },
  {
   "cell_type": "markdown",
   "metadata": {},
   "source": [
    "Maintenant nous allons modifier la disposition des différents éléments en utilisant une grille pour positionner les éléments dans la fenêtre. Ajouter un canevas rouge à droite du label et du bouton."
   ]
  },
  {
   "cell_type": "code",
   "execution_count": null,
   "metadata": {},
   "outputs": [],
   "source": [
    "#Faire un canevas de taile 300x300 pour que ce soit lisible\n"
   ]
  },
  {
   "cell_type": "markdown",
   "metadata": {},
   "source": [
    "Ajouter un canevas noir en dessous du canevas rouge précédent. Faire une fonction qui permet de compter le nombre de clics sur le carré rouge. Afficher cette valeur dans le label qui servait à afficher \"j'adore python\". Attention, le compteur du nombre de clics est appelé dans une fonction callback, il faut donc le récupérer en dehors de cette fonction en le déclarant comme variable globale. Utiliser la méthode `bind` pour récupérer le clic de souris."
   ]
  },
  {
   "cell_type": "code",
   "execution_count": null,
   "metadata": {},
   "outputs": [],
   "source": []
  },
  {
   "cell_type": "markdown",
   "metadata": {},
   "source": [
    "Créer une unique fonction qui renvoie la couleur du canevas sur lequel on a double-cliqué.\n",
    "Afficher la couleur à la place du compteur précédent."
   ]
  },
  {
   "cell_type": "code",
   "execution_count": null,
   "metadata": {},
   "outputs": [],
   "source": []
  },
  {
   "cell_type": "markdown",
   "metadata": {},
   "source": [
    "REMARQUE : Attention à ne pas mettre deux `bind` différents qui se déclenchent \n",
    "sur une même action sinon seul le dernier sera réalisé.\n",
    "En effet, la variable `event` va être modifiée deux fois et seule sa dernière modification sera donc prise en compte."
   ]
  },
  {
   "cell_type": "markdown",
   "metadata": {},
   "source": [
    "Créer une nouvelle fenêtre qui permet de charger une image depuis un fichier en utilisant la fonction `charger(widg)`. \n",
    "Vous allez devoir passer un paramètre dans la fonction callback `charger`. On ne demande pas de comprendre le fonctionnement de la fonction `charger`."
   ]
  },
  {
   "cell_type": "code",
   "execution_count": 21,
   "metadata": {},
   "outputs": [],
   "source": [
    "\n",
    "create=True\n",
    "\n",
    "def charger(widg):\n",
    "    global create\n",
    "    global photo\n",
    "    global img\n",
    "    global canvas\n",
    "    filename= filedialog.askopenfile(mode='rb', title='Choose a file')\n",
    "    img = pil.Image.open(filename)\n",
    "    photo = ImageTk.PhotoImage(img)\n",
    "    print(photo)\n",
    "    if create:    \n",
    "        canvas = tk.Canvas(widg, width = img.size[0], height = img.size[1])\n",
    "        canvas.create_image(0,0,anchor = tk.NW, image=photo)\n",
    "        canvas.pack()\n",
    "        create=False\n",
    "        \n",
    "    else:\n",
    "        canvas.pack_forget()\n",
    "        canvas = tk.Canvas(widg, width = img.size[0], height = img.size[1])\n",
    "        canvas.create_image(0,0,anchor = tk.NW, image=photo)\n",
    "        canvas.pack()\n",
    "bro = tk.Tk()\n",
    "bro.title(\"image\")\n",
    "comand = tk.Button(bro, text=\"importer image\", command= lambda: charger(bro))\n",
    "comand.pack()\n",
    "bro.mainloop()"
   ]
  },
  {
   "cell_type": "code",
   "execution_count": 19,
   "metadata": {},
   "outputs": [
    {
     "name": "stdout",
     "output_type": "stream",
     "text": [
      "pyimage13\n"
     ]
    },
    {
     "name": "stderr",
     "output_type": "stream",
     "text": [
      "Exception in Tkinter callback\n",
      "Traceback (most recent call last):\n",
      "  File \"/opt/miniconda3/envs/l1-python/lib/python3.9/tkinter/__init__.py\", line 1892, in __call__\n",
      "    return self.func(*args)\n",
      "  File \"/var/folders/tb/39mh8c6d6q1f4y2_gb67hv2m0000gn/T/ipykernel_85991/18451248.py\", line 3, in <lambda>\n",
      "    comand = tk.Button(bro, text=\"importer image\", command= lambda: charger(bro))\n",
      "  File \"/var/folders/tb/39mh8c6d6q1f4y2_gb67hv2m0000gn/T/ipykernel_85991/1912806863.py\", line 19, in charger\n",
      "    canvas.pack_forget()\n",
      "  File \"/opt/miniconda3/envs/l1-python/lib/python3.9/tkinter/__init__.py\", line 2404, in pack_forget\n",
      "    self.tk.call('pack', 'forget', self._w)\n",
      "_tkinter.TclError: can't invoke \"pack\" command: application has been destroyed\n"
     ]
    }
   ],
   "source": [
    "bro = tk.Tk()\n",
    "bro.title(\"image\")\n",
    "comand = tk.Button(bro, text=\"importer image\", command= lambda: charger(bro))\n",
    "comand.pack()\n",
    "bro.mainloop()"
   ]
  },
  {
   "cell_type": "markdown",
   "metadata": {},
   "source": [
    "(Question supplémentaire) Faire une fenêtre qui :\n",
    "- Permet de taper dans une zone de texte\n",
    "- A un label d'affichage\n",
    "- A deux boutons, respectivement \"Bouton1\" et \"Bouton2\" permettant d'afficher dans le label le numéro du bouton sur lequel on a cliqué\n",
    "- A un dernier bouton qui permet d'afficher dans le label le texte tapé dans la zone de texte"
   ]
  },
  {
   "cell_type": "code",
   "execution_count": 35,
   "metadata": {},
   "outputs": [],
   "source": [
    "def change_affich(text):\n",
    "    label.config(text= text)\n",
    "\n",
    "\n",
    "\n",
    "main = tk.Tk()\n",
    "\n",
    "bouton_1 = tk.Button(main, text=\"bouton 1\", command= lambda: change_affich(\"bouton 1\"))\n",
    "bouton_2 = tk.Button(main, text=\"bouton 2\", command= lambda: change_affich(\"bouton 2\"))\n",
    "bouton_3 = tk.Button(main, text=\"bouton 3\", command= lambda: change_affich(text.get()))\n",
    "label = tk.Label(main, text=\" hi\")\n",
    "text = tk.StringVar()\n",
    "barre = tk.Entry(main,textvariable= text)\n",
    "barre.grid(column=0,row=1, columnspan= 3)\n",
    "\n",
    "\n",
    "bouton_1.grid(row=2, column=0)\n",
    "bouton_2.grid(row=2, column=1)\n",
    "bouton_3.grid(row=2, column=2)\n",
    "label.grid(row=0,column=0, columnspan=3)\n",
    "main.mainloop()"
   ]
  }
 ],
 "metadata": {
  "kernelspec": {
   "display_name": "Python 3",
   "language": "python",
   "name": "python3"
  },
  "language_info": {
   "codemirror_mode": {
    "name": "ipython",
    "version": 3
   },
   "file_extension": ".py",
   "mimetype": "text/x-python",
   "name": "python",
   "nbconvert_exporter": "python",
   "pygments_lexer": "ipython3",
   "version": "3.9.7"
  }
 },
 "nbformat": 4,
 "nbformat_minor": 4
}
