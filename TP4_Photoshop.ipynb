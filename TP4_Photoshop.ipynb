{
 "cells": [
  {
   "cell_type": "markdown",
   "metadata": {},
   "source": [
    "# Petit Photoshop"
   ]
  },
  {
   "cell_type": "markdown",
   "metadata": {},
   "source": [
    "Importer les librairies suivantes :"
   ]
  },
  {
   "cell_type": "code",
   "execution_count": 3,
   "metadata": {},
   "outputs": [],
   "source": [
    "import tkinter as tk\n",
    "import PIL as pil\n",
    "from PIL import Image\n",
    "from PIL import ImageTk \n",
    "from tkinter import filedialog\n",
    "from tkinter import simpledialog"
   ]
  },
  {
   "cell_type": "markdown",
   "metadata": {},
   "source": [
    "Ajouter une fonction `nbrCol(matrice)` qui retourne le nombre de colonnes d'une matrice \n",
    "et une fonction `nbrLig(matrice)` qui retourne le nombre de lignes d'une matrice"
   ]
  },
  {
   "cell_type": "code",
   "execution_count": 4,
   "metadata": {},
   "outputs": [],
   "source": [
    "def nbrCol(matrice):\n",
    "    return(len(matrice[0]))\n",
    "\n",
    "def nbrLig(matrice):\n",
    "    return len(matrice)"
   ]
  },
  {
   "cell_type": "markdown",
   "metadata": {},
   "source": [
    "Ajouter la fonction suivante à votre code, on ne demande pas de la comprendre en détail.\n",
    "Elle permet de stocker la matrice de pixels passée en paramètre `matPix` dans un fichier spécifié par `filename`."
   ]
  },
  {
   "cell_type": "code",
   "execution_count": 5,
   "metadata": {},
   "outputs": [],
   "source": [
    "def saving(matPix, filename):\n",
    "    toSave=pil.Image.new(\"RGBA\",(nbrCol(matPix),nbrLig(matPix)))\n",
    "    for i in range(nbrCol(matPix)):\n",
    "        for j in range(nbrLig(matPix)):\n",
    "            toSave.putpixel((i,j),matPix[j][i])\n",
    "    toSave.save(filename)"
   ]
  },
  {
   "cell_type": "markdown",
   "metadata": {},
   "source": [
    "Ajouter la fonction `loading` à votre code. Là non plus on ne demande pas de comprendre la fonction en détail.\n",
    "Elle prend une image en entrée et retourne une matrice de pixels."
   ]
  },
  {
   "cell_type": "code",
   "execution_count": 6,
   "metadata": {},
   "outputs": [],
   "source": [
    "def loading(filename):\n",
    "    toLoad=pil.Image.open(filename)\n",
    "    mat=[[(255,255,255,255)]*toLoad.size[0] for k in range(toLoad.size[1])]\n",
    "    for i in range(toLoad.size[1]):\n",
    "        for j in range(toLoad.size[0]):\n",
    "            mat[i][j]=toLoad.getpixel((j,i))\n",
    "    return mat"
   ]
  },
  {
   "cell_type": "markdown",
   "metadata": {},
   "source": [
    "Ajouter la fonction `charger` qui permet d'afficher une image dans un canevas dans la colonne 1 d'une grid."
   ]
  },
  {
   "cell_type": "code",
   "execution_count": 7,
   "metadata": {},
   "outputs": [],
   "source": [
    "create=True\n",
    "nomImgCourante=\"\"\n",
    "nomImgDebut = \"\"\n",
    "\n",
    "def charger(widg):\n",
    "    global create\n",
    "    global photo\n",
    "    global img\n",
    "    global canvas\n",
    "    global dessin\n",
    "    global nomImgCourante\n",
    "    global nomImgDebut\n",
    "    filename= filedialog.askopenfile(mode='rb', title='Choose a file')\n",
    "    img = pil.Image.open(filename)\n",
    "    nomImgCourante=filename.name\n",
    "    nomImgDebut = filename.name\n",
    "    photo = ImageTk.PhotoImage(img)\n",
    "    if create:    \n",
    "        canvas = tk.Canvas(widg, width = img.size[0], height = img.size[1])\n",
    "        dessin = canvas.create_image(0,0,anchor = tk.NW, image=photo)\n",
    "        canvas.grid(row=0,column=1,rowspan=4,columnspan=2)\n",
    "        create=False\n",
    "        \n",
    "    else:\n",
    "        canvas.grid_forget()\n",
    "        canvas = tk.Canvas(widg, width = img.size[0], height = img.size[1])\n",
    "        dessin=canvas.create_image(0,0,anchor = tk.NW, image=photo)\n",
    "        canvas.grid(row=0,column=1,rowspan=18,columnspan=2)\n"
   ]
  },
  {
   "cell_type": "markdown",
   "metadata": {},
   "source": [
    "Ajouter la fonction `modify(matrice)` qui permet de modifier une matrice de pixels au sein même d'un canevas créé par la methode `charger()`, et la fonction callback `reaffiche` qui permet de réafficher l'image de départ après lui avoir appliqué des effets."
   ]
  },
  {
   "cell_type": "code",
   "execution_count": 8,
   "metadata": {},
   "outputs": [],
   "source": [
    "def modify(matrice):\n",
    "    global imgModif\n",
    "    global nomImgCourante\n",
    "    saving(matrice,\"modif.png\")\n",
    "    imgModif=ImageTk.PhotoImage(file=\"modif.png\")\n",
    "    canvas.itemconfigure(dessin, image=imgModif)\n",
    "    nomImgCourante=\"modif.png\"\n",
    "\n",
    "def reaffiche():\n",
    "    global imgDebut\n",
    "    global nomImgCourante\n",
    "    if not create :\n",
    "        imgDebut=ImageTk.PhotoImage(file=nomImgDebut)\n",
    "        canvas.itemconfigure(dessin, image=imgDebut)\n",
    "        nomImgCourante = nomImgDebut\n",
    "    "
   ]
  },
  {
   "cell_type": "markdown",
   "metadata": {},
   "source": [
    "Créez une fenêtre tkinter appelée \"Mon Petit Photoshop\", dans laquelle vous mettrez un bouton pour chacune des fonctions de traitement d'image que vous allez écrire. Vous mettrez égalment un bouton pour *charger* une image, un bouton pour *quitter la fenêtre* et un bouton pour *revenir à l'image de départ* en utilisant la fonction callback `reaffiche`. Vous ajouterez également un label contenant votre nom, prénom et numéro d'étudiant. Vous pourrez ajouter un bouton pour sauvegarder l'image, éventuellement sous un nouveau nom. ATTENTION : L'image est placée grâce à la méthode `grid` et elle couvre les colonnes 1 et 2 et les lignes 0,1,2 et 3."
   ]
  },
  {
   "cell_type": "markdown",
   "metadata": {},
   "source": [
    "Mise en Page \n",
    "1. Vous placerez les boutons pour les fonctions de traitement d'image dans la colonne 0 d'une grid respectivement\n",
    "    aux lignes 0,1,2\n",
    "1. Le bouton `Retour` (pour revenir à l'image de départ) sera placé dans la colonne 0 à l'avant dernière ligne\n",
    "1. Le bouton `Charger` sera placé dans la colonne 0 dans la dernière ligne\n",
    "1. Le bouton `Quitter` sera placé dans la dernière colonne et la dernière ligne\n",
    "1. Le label sera placé juste sous l'image, entre les boutons `Charger` et `Quitter`\n",
    " \n",
    "Si tout fonctionne, regardez la doc tkinter pour rendre ça un peu plus \"joli\"."
   ]
  },
  {
   "cell_type": "code",
   "execution_count": 9,
   "metadata": {},
   "outputs": [],
   "source": [
    "def filtre_vert():\n",
    "    mat=loading(nomImgCourante)\n",
    "    for i in range(nbrLig(mat)):\n",
    "        for j in range(nbrCol(mat)):\n",
    "            mat[i][j]=(0,mat[i][j][1],0,255)\n",
    "    modify(mat)\n",
    "            \n",
    "def negatif():\n",
    "    mat=loading(nomImgCourante)\n",
    "    for i in range(nbrLig(mat)):\n",
    "        for j in range(nbrCol(mat)):\n",
    "            mat[i][j]=(255-mat[i][j][0],255-mat[i][j][1],255-mat[i][j][2],255)\n",
    "    modify(mat)\n",
    "            \n",
    "def symetrique():\n",
    "    mat=loading(nomImgCourante)\n",
    "    matSym=[[(0,0,0,0)]*nbrCol(mat) for k in range(nbrLig(mat))]\n",
    "    for i in range(nbrLig(mat)):\n",
    "        for j in range(nbrCol(mat)):\n",
    "            matSym[i][nbrCol(mat)-1-j]=mat[i][j]\n",
    "    for i in range(nbrLig(mat)):\n",
    "        for j in range(nbrCol(mat)):\n",
    "            mat[i][j]=matSym[i][j]\n",
    "    modify(mat)"
   ]
  },
  {
   "cell_type": "code",
   "execution_count": 10,
   "metadata": {},
   "outputs": [],
   "source": [
    "def luminosite(r,g,b):\n",
    "    l =  int(0.2125*r + 0.0721*b + 0.7154* g)\n",
    "    return(l)\n",
    "\n",
    "\n",
    "def gris():\n",
    "    #On utilisera la conversion CIE709 qui permet de calculer la teinte de gris qui va être affichée dans le pixel\n",
    "    #La teinte affichée est : gris=0,2125*rouge + 0,0721*bleu + 0,7154*vert\n",
    "    mat=loading(nomImgCourante)\n",
    "    for i in range(nbrLig(mat)):\n",
    "        for j in range(nbrCol(mat)):\n",
    "            l = luminosite(mat[i][j][0],mat[i][j][1],mat[i][j][2])\n",
    "            mat[i][j] = (l,l,l,255)\n",
    "            # calcul de la teinte de gris du pixel (CIE709)\n",
    "    modify(mat)\n",
    "\n",
    "\n",
    "def noirBlanc():\n",
    "    mat=loading(nomImgCourante)\n",
    "    for i in range(nbrLig(mat)):\n",
    "        for j in range(nbrCol(mat)):\n",
    "            l = luminosite(mat[i][j][0],mat[i][j][1],mat[i][j][2])\n",
    "            mat[i][j] = (0,0,0) if l < 127 else (255,255,255)\n",
    "            # un pixel est blanc quand sa luminosité est > à 127, noir sinon\n",
    "    modify(mat)"
   ]
  },
  {
   "cell_type": "code",
   "execution_count": 11,
   "metadata": {},
   "outputs": [],
   "source": [
    "def shrink():\n",
    "    mat=loading(nomImgCourante)\n",
    "    #créer une matrice de largeur et hauteur deux fois plus petite \n",
    "    out =[]\n",
    "    for i in range(nbrLig(mat)):\n",
    "        if i % 2 == 1:\n",
    "            continue\n",
    "        l = []\n",
    "        for j in range(nbrCol(mat)):\n",
    "            try :\n",
    "                if j % 2 == 0:\n",
    "                    r = int((mat[i][j][0]+mat[i][j+1][0]+ mat[i+1][j][0] + mat[i+1][j+1][0])// 4)\n",
    "                    g = int((mat[i][j][1]+mat[i][j+1][1]+ mat[i+1][j][1] + mat[i+1][j+1][1])// 4)\n",
    "                    b = int((mat[i][j][2]+mat[i][j+1][2]+ mat[i+1][j][2] + mat[i+1][j+1][2])// 4)\n",
    "                    l.append((r,g,b,255))\n",
    "            except: \n",
    "                pass\n",
    "        out.append(l)\n",
    "    mat = list(out)\n",
    "    modify(mat)\n",
    "# def shrink():\n",
    "#     mat=loading(nomImgCourante)\n",
    "#     #créer une matrice de largeur et hauteur deux fois plus petite \n",
    "#     matshrink=[[(0,0,0,255)] *(nbrCol(mat)//2) for j in range(nbrLig(mat)//2)] \n",
    "#     for i in range(nbrLig(matshrink)):\n",
    "#         for j in range(nbrCol(matshrink)):\n",
    "#             pixRouge=(mat[2*i][2*j][0]+mat[2*i][2*j+1][0]+mat[2*i+1][2*j][0]+mat[2*i+1][2*j+1][0])//4\n",
    "#             pixVert=(mat[2*i][2*j][1]+mat[2*i][2*j+1][1]+mat[2*i+1][2*j][1]+mat[2*i+1][2*j+1][1])//4\n",
    "#             pixBleu=(mat[2*i][2*j][2]+mat[2*i][2*j+1][2]+mat[2*i+1][2*j][2]+mat[2*i+1][2*j+1][2])//4\n",
    "#             matshrink[i][j]=(pixRouge,pixVert,pixBleu,255)\n",
    "#     modify(matshrink)"
   ]
  },
  {
   "cell_type": "code",
   "execution_count": 12,
   "metadata": {},
   "outputs": [],
   "source": [
    "def rotate():\n",
    "    l = []\n",
    "    mat=loading(nomImgCourante)\n",
    "    for i in range (nbrCol(mat)):\n",
    "        a = []\n",
    "        for j in range (nbrLig(mat)):\n",
    "            a. append(mat[j][i])\n",
    "        a.reverse()\n",
    "        l.append(a)\n",
    "    mat = l\n",
    "\n",
    "    modify(mat)"
   ]
  },
  {
   "cell_type": "code",
   "execution_count": 13,
   "metadata": {},
   "outputs": [],
   "source": [
    "import random as rd\n",
    "create=True\n",
    "\n",
    "def qitter_fenetre():\n",
    "    fenetre.destroy()\n",
    "\n",
    "\n",
    "def zoom():\n",
    "    mat=loading(nomImgCourante)\n",
    "    #créer une matrice de largeur et hauteur deux fois plus grande \n",
    "    mat_zoom = []\n",
    "    for i in range(nbrLig(mat)):\n",
    "        a = []\n",
    "        for j in range(nbrCol(mat)):\n",
    "            for k in range (2):\n",
    "                a.append(mat[i][j])\n",
    "        for l in range (2):\n",
    "            mat_zoom.append(a)\n",
    "    mat = list(mat_zoom)\n",
    "    modify(mat)\n",
    "\n",
    "\n",
    "def dithering():\n",
    "    mat=loading(nomImgCourante)\n",
    "    for i in range(nbrLig(mat)):\n",
    "        for j in range(nbrCol(mat)):\n",
    "            l = luminosite(mat[i][j][0],mat[i][j][1],mat[i][j][2])\n",
    "            n = rd.randint(0,255)\n",
    "            mat[i][j] = (0,0,0) if l < n else (255,255,255)\n",
    "            # un pixel est blanc quand sa luminosité est > à 127, noir sinon\n",
    "    modify(mat)\n",
    "\n",
    "\n",
    "#Fonctions auxiliaires \n",
    "\n",
    "    \n",
    "fenetre = tk.Tk()\n",
    "fenetre.title(\"Mon petit photoshop\")\n",
    "#Création des Widgets\n",
    "bouton_retour = tk.Button(fenetre, text= \"retour\", command= reaffiche)\n",
    "bouton_charger = tk.Button(fenetre, text= \"charger\", command= lambda : charger(fenetre) )\n",
    "bouton_quitter = tk.Button(fenetre, text= \"quitter\", command= qitter_fenetre )\n",
    "bouton_filtre_vert = tk.Button(fenetre,text=\"filtre vert\", command=filtre_vert )\n",
    "bouton_negatif = tk.Button(fenetre,text=\"négatif\", command= negatif )\n",
    "bouton_symetrie = tk.Button(fenetre,text=\"symétrie\", command= symetrique )\n",
    "bouton_gris = tk.Button(fenetre, text=\"gris\", command= gris)\n",
    "bouton_noir = tk.Button(fenetre, text=\"noir\", command= dithering)\n",
    "bouton_zoom = tk.Button(fenetre, text=\"zoom\", command= zoom)\n",
    "bouton_shrink = tk.Button(fenetre, text=\"shrink\", command= shrink)\n",
    "bouton_rotate = tk.Button(fenetre, text=\"rotate\", command= rotate )\n",
    "\n",
    "\n",
    "#Positionnement des Widgets\n",
    "\n",
    "bouton_retour.grid(column=0 , row =1)\n",
    "bouton_charger.grid(column= 0, row= 0)\n",
    "bouton_quitter.grid(column=3)\n",
    "bouton_filtre_vert.grid(column=0, row= 4)\n",
    "bouton_negatif.grid(column= 0, row=2)\n",
    "bouton_symetrie.grid(column=0, row= 3)\n",
    "bouton_gris.grid(column=3)\n",
    "bouton_noir.grid(column=3,row=0)\n",
    "bouton_zoom.grid(column=3,row=1)\n",
    "bouton_shrink.grid(column=3,row=2)\n",
    "bouton_rotate.grid(column=3,row=3)\n",
    "\n",
    "\n",
    "\n",
    "\n",
    "\n",
    "#Lancement de la boucle \n",
    "fenetre.mainloop()"
   ]
  },
  {
   "cell_type": "markdown",
   "metadata": {},
   "source": [
    "Modifiez les fonctions du TD précédent pour qu'elles deviennent des fonctions callback qui s'appliquent directement sur l'image dans le canevas."
   ]
  },
  {
   "cell_type": "markdown",
   "metadata": {},
   "source": [
    "Faire une fonction qui permet de transformer une image en couleur en une image en niveau de gris."
   ]
  },
  {
   "cell_type": "markdown",
   "metadata": {},
   "source": [
    "Faire une fonction qui permet de transformer une image en couleur en une image en noir et blanc."
   ]
  },
  {
   "cell_type": "markdown",
   "metadata": {},
   "source": [
    "Donner une fonction qui multiplie par 4 la définition d'une image (chaque pixel donne un carré de 4 pixels)."
   ]
  },
  {
   "cell_type": "markdown",
   "metadata": {},
   "source": [
    "Donner une fonction qui divise par 4 la définition d'une image. Chaque carré de 4 pixels est remplacé par 1 pixel dont la valeur est la moyenne de ces 4 pixels."
   ]
  },
  {
   "cell_type": "markdown",
   "metadata": {},
   "source": [
    "Combiner les fonctions `zoom` et `shrink` pour obtenir un effet poster (effet de perte de résolution)."
   ]
  },
  {
   "cell_type": "code",
   "execution_count": null,
   "metadata": {},
   "outputs": [],
   "source": [
    "def poster():\n",
    "    mat=loading(nomImgCourante)\n",
    "    modify(mat)"
   ]
  },
  {
   "cell_type": "markdown",
   "metadata": {},
   "source": [
    "Donner une fonction qui effectue une rotation d'une image vers la droite."
   ]
  },
  {
   "cell_type": "markdown",
   "metadata": {},
   "source": [
    "Voici quelques fonctions que vous pouvez implémenter si vous en avez le temps:\n",
    "1. modification de la luminosité d'une image (avec un slider pour la sélection)\n",
    "1. flou de l'image, chaque pixel est remplacé par la moyenne de ses voisins et de lui-même\n",
    "1. bruitage de l'image, chaque pixel est modifié par une valeur aléatoire\n",
    "1. implémenter une méthode de dithering pour obtenir une image en noir et blanc plus subtile (au lieu de prendre un seuil\n",
    "à 127, on tire aléaoirement la valeur du pixel avec une probabilité qui dépend de sa luminosité)\n",
    "1. mode stylo, qui permet avec la souris d'écrire des pixels noirs sur l'image "
   ]
  },
  {
   "cell_type": "markdown",
   "metadata": {},
   "source": []
  }
 ],
 "metadata": {
  "interpreter": {
   "hash": "df6bb47ff3635da9e32e0207634daac25daac2185705efed139fcef1e5bc6fc1"
  },
  "kernelspec": {
   "display_name": "Python 3.9.7 64-bit ('l1-python': conda)",
   "name": "python3"
  },
  "language_info": {
   "codemirror_mode": {
    "name": "ipython",
    "version": 3
   },
   "file_extension": ".py",
   "mimetype": "text/x-python",
   "name": "python",
   "nbconvert_exporter": "python",
   "pygments_lexer": "ipython3",
   "version": "3.9.7"
  }
 },
 "nbformat": 4,
 "nbformat_minor": 4
}
