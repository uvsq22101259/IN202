{
 "cells": [
  {
   "cell_type": "markdown",
   "metadata": {},
   "source": [
    "# TD1 Représentation de nombres"
   ]
  },
  {
   "cell_type": "markdown",
   "metadata": {},
   "source": [
    "Exercice sur papier:\n",
    "\n",
    "1. Convertir en binaire le nombre 115 (division successive par 2).\n",
    "2. Donner la représentation de -115 en complément à 2 sur 8 bits.\n",
    "3. Donner la représentation de 12,625 comme un flottant. "
   ]
  },
  {
   "cell_type": "markdown",
   "metadata": {},
   "source": [
    "On représente un entier en binaire par une liste de 0 et de 1. Donner une fonction `conversionBase2(nombre)`\n",
    "qui transforme un entier en sa représentation binaire. Attention, les bits sont calculés dans l'ordre inverse\n",
    "(little endian), il faudra sans doute renverser la liste avec la méthode `.reverse()`."
   ]
  },
  {
   "cell_type": "code",
   "execution_count": 9,
   "metadata": {},
   "outputs": [
    {
     "data": {
      "text/plain": [
       "[0, 1, 1, 1, 0, 0, 1, 1]"
      ]
     },
     "execution_count": 9,
     "metadata": {},
     "output_type": "execute_result"
    }
   ],
   "source": [
    "def conversionBase2(nombre):\n",
    "    if(nombre==0):\n",
    "        return [0]\n",
    "    res = []\n",
    "    if nombre != 0:\n",
    "        while nombre != 0:\n",
    "            if nombre % 2 != 0:\n",
    "                res.append(1)\n",
    "                nombre-= 1\n",
    "                nombre = nombre // 2\n",
    "            if nombre%2 == 0:\n",
    "                res.append(0)\n",
    "                nombre = nombre// 2\n",
    "                \n",
    "    res.reverse()  \n",
    "\n",
    "    return res\n",
    "    \n",
    "conversionBase2(115)"
   ]
  },
  {
   "cell_type": "code",
   "execution_count": null,
   "metadata": {},
   "outputs": [],
   "source": []
  },
  {
   "cell_type": "markdown",
   "metadata": {},
   "source": [
    "Faire une fonction d'affichage d'une liste représentant un nombre en binaire. Pour afficher avec `print` sans passer à la ligne il faut utiliser l'argument optionnel end=\"\"."
   ]
  },
  {
   "cell_type": "code",
   "execution_count": 10,
   "metadata": {},
   "outputs": [
    {
     "name": "stdout",
     "output_type": "stream",
     "text": [
      "0 1 1 1 0 0 1 1 "
     ]
    }
   ],
   "source": [
    "def afficheBase(liste):\n",
    "    for i in liste:\n",
    "        print(i, end=\" \")\n",
    "\n",
    "afficheBase(conversionBase2(115))"
   ]
  },
  {
   "cell_type": "markdown",
   "metadata": {},
   "source": [
    "Convertir un nombre dans n'importe quelle base b (représentée comme une liste des chiffres dans cette base).\n",
    "Que faut-il changer dans `conversionBase2` pour gérer n'importe quelle base ?"
   ]
  },
  {
   "cell_type": "code",
   "execution_count": 16,
   "metadata": {},
   "outputs": [
    {
     "data": {
      "text/plain": [
       "[1, 1, 0, 2, 1]"
      ]
     },
     "execution_count": 16,
     "metadata": {},
     "output_type": "execute_result"
    }
   ],
   "source": [
    "def conversionBase(nombre,b):\n",
    "    if(nombre==0):\n",
    "        return [0]\n",
    "    res = []\n",
    "    while nombre != 0:\n",
    "        res.append(nombre%b)\n",
    "        nombre//=b\n",
    "                \n",
    "\n",
    "    res.reverse()\n",
    "    return res\n",
    "\n",
    "conversionBase(115,3)"
   ]
  },
  {
   "cell_type": "markdown",
   "metadata": {},
   "source": [
    "Quels sont les nombres entiers qu'on peut écrire avec n chiffres en base b ?"
   ]
  },
  {
   "cell_type": "markdown",
   "metadata": {},
   "source": [
    "Écrire une fonction d'affichage pour un nombre en Hexadécimal (en base 16).\n",
    "On rappelle que 10 doit être représenté par A, 11 par B ..."
   ]
  },
  {
   "cell_type": "code",
   "execution_count": 23,
   "metadata": {},
   "outputs": [
    {
     "name": "stdout",
     "output_type": "stream",
     "text": [
      "7 3 "
     ]
    }
   ],
   "source": [
    "import string\n",
    "\n",
    "def afficheBaseHexa(liste):\n",
    "    alphabet = list(range(10))\n",
    "    for i in string.ascii_uppercase:\n",
    "        alphabet.append(i)\n",
    "\n",
    "    for v in liste:\n",
    "        print(alphabet[v], end=\" \")\n",
    "        \n",
    "       \n",
    "            \n",
    "afficheBaseHexa(conversionBase(115,16))"
   ]
  },
  {
   "cell_type": "markdown",
   "metadata": {},
   "source": [
    "Donner la valeur de $(1001101)_2$ (dans la représentation traditionnelle en base 10).\n",
    "Écrire une fonction qui transforme la représentation en base b d'un entier en cet entier."
   ]
  },
  {
   "cell_type": "code",
   "execution_count": 69,
   "metadata": {},
   "outputs": [
    {
     "data": {
      "text/plain": [
       "115"
      ]
     },
     "execution_count": 69,
     "metadata": {},
     "output_type": "execute_result"
    }
   ],
   "source": [
    "def conversionEntier(liste,b):\n",
    "    res= 0\n",
    "    liste.reverse()\n",
    "    for i in range(len(liste)):\n",
    "       res += liste[i]*(b**i)\n",
    "    return res\n",
    "  \n",
    "test = conversionBase(115,2)\n",
    "conversionEntier(test,2)"
   ]
  },
  {
   "cell_type": "code",
   "execution_count": 66,
   "metadata": {},
   "outputs": [
    {
     "data": {
      "text/plain": [
       "115"
      ]
     },
     "execution_count": 66,
     "metadata": {},
     "output_type": "execute_result"
    }
   ],
   "source": [
    "def conversionEntier(liste,b):\n",
    "   liste.reverse()\n",
    "   pui = 0\n",
    "   addition = 0\n",
    "   for i in liste:\n",
    "      addition += ( i* (b**pui))\n",
    "      pui+= 1\n",
    "   return addition\n",
    "test = conversionBase(115,16)\n",
    "conversionEntier(test,16)"
   ]
  },
  {
   "cell_type": "markdown",
   "metadata": {},
   "source": [
    "Additioner $(10001101)_2$ et $(10111001)_2$ à la main. "
   ]
  },
  {
   "cell_type": "markdown",
   "metadata": {},
   "source": [
    "On a `l` un nombre en base b et on veut l'écrire sur n chiffres (en ajoutant des 0 devant). Donner une fonction pour réaliser cette transformation."
   ]
  },
  {
   "cell_type": "code",
   "execution_count": 75,
   "metadata": {},
   "outputs": [
    {
     "data": {
      "text/plain": [
       "[0, 0, 0, 1, 1, 0, 0, 1, 1, 1]"
      ]
     },
     "execution_count": 75,
     "metadata": {},
     "output_type": "execute_result"
    }
   ],
   "source": [
    "def etendreEcriture(l,n):\n",
    "    \n",
    "    t = n - len(l)\n",
    "    res = [0] * t\n",
    "    res.extend(l)\n",
    "    return res\n",
    "\n",
    "etendreEcriture(test,10)"
   ]
  },
  {
   "cell_type": "markdown",
   "metadata": {},
   "source": [
    "Réaliser ensuite un programme qui additionne la représentation en base b de deux entiers.\n",
    "On pourra utiliser la méthode `.insert(pos,val)` qui ajoute val à la position pos."
   ]
  },
  {
   "cell_type": "code",
   "execution_count": 87,
   "metadata": {},
   "outputs": [
    {
     "name": "stdout",
     "output_type": "stream",
     "text": [
      "[3, 8]\n"
     ]
    },
    {
     "data": {
      "text/plain": [
       "56"
      ]
     },
     "execution_count": 87,
     "metadata": {},
     "output_type": "execute_result"
    }
   ],
   "source": [
    "\n",
    "#Algorithme d'addition du primaire\n",
    "\n",
    "def afficheBase(liste):\n",
    "    for i in liste:\n",
    "        print(i, end=\" \")\n",
    "\n",
    "def conversionBase(nombre,b):\n",
    "    if(nombre==0):\n",
    "        return [0]\n",
    "    res = []\n",
    "    while nombre != 0:\n",
    "        res.append(nombre%b)\n",
    "        nombre//=b\n",
    "\n",
    "import string\n",
    "\n",
    "def afficheBaseHexa(liste):\n",
    "    alphabet = list(range(10))\n",
    "    for i in string.ascii_uppercase:\n",
    "        alphabet.append(i)\n",
    "\n",
    "    for v in liste:\n",
    "        print(alphabet[v], end=\" \")\n",
    "\n",
    "def conversionEntier(liste,b):\n",
    "    res= 0\n",
    "    liste.reverse()\n",
    "    for i in range(len(liste)):\n",
    "       res += liste[i]*(b**i)\n",
    "    return res\n",
    "   \n",
    "def etendreEcriture(l,n):\n",
    "    \n",
    "    t = n - len(l)\n",
    "    res = [0] * t\n",
    "    res.extend(l)\n",
    "    return res\n",
    "    \n",
    "def addition(l1,l2,b):\n",
    "    if(len(l1) > len(l2)):\n",
    "        l2 = etendreEcriture(l2,len(l1))\n",
    "    else:\n",
    "        l1 = etendreEcriture(l1,len(l2))\n",
    "    res = []\n",
    "    r = 0\n",
    "    t = len(l1)\n",
    "    for i in range(t):\n",
    "        a= l1[t-i-1] + l2[t-i-1] + r\n",
    "        r = 0\n",
    "        if a > b-1:\n",
    "            r = 1\n",
    "            a -= b\n",
    "        res.insert(0,a)\n",
    "    if r == 1:\n",
    "        res.insert(0,1)\n",
    "    return res\n",
    "base = 16\n",
    "test1 = conversionBase(38,base)\n",
    "test2 = conversionBase(18,base)\n",
    "\n",
    "h = addition(test1,test2,base)\n",
    "print(h)\n",
    "\n",
    "conversionEntier(h,base)"
   ]
  },
  {
   "cell_type": "code",
   "execution_count": null,
   "metadata": {},
   "outputs": [],
   "source": []
  }
 ],
 "metadata": {
  "kernelspec": {
   "display_name": "Python 3",
   "language": "python",
   "name": "python3"
  },
  "language_info": {
   "codemirror_mode": {
    "name": "ipython",
    "version": 3
   },
   "file_extension": ".py",
   "mimetype": "text/x-python",
   "name": "python",
   "nbconvert_exporter": "python",
   "pygments_lexer": "ipython3",
   "version": "3.10.0"
  }
 },
 "nbformat": 4,
 "nbformat_minor": 4
}
